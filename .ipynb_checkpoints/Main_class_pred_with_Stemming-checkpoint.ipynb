{
 "cells": [
  {
   "cell_type": "code",
   "execution_count": 1,
   "metadata": {
    "collapsed": false
   },
   "outputs": [],
   "source": [
    "## Loading packages\n",
    "import nltk\n",
    "from nltk.corpus import stopwords\n",
    "import pandas as pd\n",
    "import numpy as np\n",
    "import matplotlib.pyplot as plt\n",
    "from PyDictionary import PyDictionary\n",
    "from sklearn.feature_extraction.text import TfidfVectorizer\n",
    "from nltk.stem.snowball import SnowballStemmer\n",
    "from scipy.sparse import hstack\n",
    "from sklearn.linear_model import LogisticRegression\n",
    "from sklearn.cross_validation import train_test_split\n",
    "\n",
    "import re\n",
    "\n",
    "# \n",
    "\n",
    "from sklearn.feature_extraction.text import TfidfVectorizer\n",
    "\n",
    "\n",
    "dictionary=PyDictionary() # dictionary file to get dictionary"
   ]
  },
  {
   "cell_type": "code",
   "execution_count": 2,
   "metadata": {
    "collapsed": true
   },
   "outputs": [],
   "source": [
    "data = pd.read_csv('classkeywords.csv')"
   ]
  },
  {
   "cell_type": "code",
   "execution_count": 3,
   "metadata": {
    "collapsed": false
   },
   "outputs": [
    {
     "data": {
      "text/html": [
       "<div>\n",
       "<table border=\"1\" class=\"dataframe\">\n",
       "  <thead>\n",
       "    <tr style=\"text-align: right;\">\n",
       "      <th></th>\n",
       "      <th>ClassDescKeywordId</th>\n",
       "      <th>Keyword</th>\n",
       "      <th>ClassDescriptionId</th>\n",
       "      <th>ClassCode</th>\n",
       "      <th>ClassSuffix</th>\n",
       "      <th>DirectOK</th>\n",
       "    </tr>\n",
       "  </thead>\n",
       "  <tbody>\n",
       "    <tr>\n",
       "      <th>0</th>\n",
       "      <td>1</td>\n",
       "      <td>Automobile Parts and Accessories</td>\n",
       "      <td>1</td>\n",
       "      <td>8046</td>\n",
       "      <td>1</td>\n",
       "      <td>Y</td>\n",
       "    </tr>\n",
       "    <tr>\n",
       "      <th>1</th>\n",
       "      <td>316</td>\n",
       "      <td>Auto Parts</td>\n",
       "      <td>1</td>\n",
       "      <td>8046</td>\n",
       "      <td>1</td>\n",
       "      <td>Y</td>\n",
       "    </tr>\n",
       "    <tr>\n",
       "      <th>2</th>\n",
       "      <td>317</td>\n",
       "      <td>Used Automotive Parts</td>\n",
       "      <td>1</td>\n",
       "      <td>8046</td>\n",
       "      <td>1</td>\n",
       "      <td>Y</td>\n",
       "    </tr>\n",
       "    <tr>\n",
       "      <th>3</th>\n",
       "      <td>327</td>\n",
       "      <td>Aftermarket Auto Parts</td>\n",
       "      <td>1</td>\n",
       "      <td>8046</td>\n",
       "      <td>1</td>\n",
       "      <td>Y</td>\n",
       "    </tr>\n",
       "    <tr>\n",
       "      <th>4</th>\n",
       "      <td>328</td>\n",
       "      <td>Car Batteries</td>\n",
       "      <td>1</td>\n",
       "      <td>8046</td>\n",
       "      <td>1</td>\n",
       "      <td>Y</td>\n",
       "    </tr>\n",
       "    <tr>\n",
       "      <th>5</th>\n",
       "      <td>345</td>\n",
       "      <td>Car Parts and Accessories</td>\n",
       "      <td>1</td>\n",
       "      <td>8046</td>\n",
       "      <td>1</td>\n",
       "      <td>Y</td>\n",
       "    </tr>\n",
       "    <tr>\n",
       "      <th>6</th>\n",
       "      <td>344</td>\n",
       "      <td>Truck Stops</td>\n",
       "      <td>2</td>\n",
       "      <td>8391</td>\n",
       "      <td>2</td>\n",
       "      <td>Y</td>\n",
       "    </tr>\n",
       "    <tr>\n",
       "      <th>7</th>\n",
       "      <td>382</td>\n",
       "      <td>Petrol Station</td>\n",
       "      <td>2</td>\n",
       "      <td>8391</td>\n",
       "      <td>2</td>\n",
       "      <td>Y</td>\n",
       "    </tr>\n",
       "    <tr>\n",
       "      <th>8</th>\n",
       "      <td>383</td>\n",
       "      <td>Filling Station</td>\n",
       "      <td>2</td>\n",
       "      <td>8391</td>\n",
       "      <td>2</td>\n",
       "      <td>Y</td>\n",
       "    </tr>\n",
       "    <tr>\n",
       "      <th>9</th>\n",
       "      <td>384</td>\n",
       "      <td>Service Station</td>\n",
       "      <td>2</td>\n",
       "      <td>8391</td>\n",
       "      <td>2</td>\n",
       "      <td>Y</td>\n",
       "    </tr>\n",
       "  </tbody>\n",
       "</table>\n",
       "</div>"
      ],
      "text/plain": [
       "   ClassDescKeywordId                           Keyword  ClassDescriptionId  \\\n",
       "0                   1  Automobile Parts and Accessories                   1   \n",
       "1                 316                        Auto Parts                   1   \n",
       "2                 317             Used Automotive Parts                   1   \n",
       "3                 327            Aftermarket Auto Parts                   1   \n",
       "4                 328                     Car Batteries                   1   \n",
       "5                 345         Car Parts and Accessories                   1   \n",
       "6                 344                       Truck Stops                   2   \n",
       "7                 382                    Petrol Station                   2   \n",
       "8                 383                   Filling Station                   2   \n",
       "9                 384                   Service Station                   2   \n",
       "\n",
       "   ClassCode  ClassSuffix DirectOK  \n",
       "0       8046            1        Y  \n",
       "1       8046            1        Y  \n",
       "2       8046            1        Y  \n",
       "3       8046            1        Y  \n",
       "4       8046            1        Y  \n",
       "5       8046            1        Y  \n",
       "6       8391            2        Y  \n",
       "7       8391            2        Y  \n",
       "8       8391            2        Y  \n",
       "9       8391            2        Y  "
      ]
     },
     "execution_count": 3,
     "metadata": {},
     "output_type": "execute_result"
    }
   ],
   "source": [
    "data.head(10)"
   ]
  },
  {
   "cell_type": "code",
   "execution_count": 4,
   "metadata": {
    "collapsed": false
   },
   "outputs": [
    {
     "name": "stdout",
     "output_type": "stream",
     "text": [
      "{u'Verb': ['produce or yield flowers'], u'Noun': ['a plant cultivated for its blooms or blossoms', 'reproductive organ of angiosperm plants especially one having showy or colorful parts', 'the period of greatest prosperity or productivity']}\n"
     ]
    },
    {
     "name": "stderr",
     "output_type": "stream",
     "text": [
      "//anaconda/lib/python2.7/site-packages/bs4/__init__.py:166: UserWarning: No parser was explicitly specified, so I'm using the best available HTML parser for this system (\"lxml\"). This usually isn't a problem, but if you run this code on another system, or in a different virtual environment, it may use a different parser and behave differently.\n",
      "\n",
      "To get rid of this warning, change this:\n",
      "\n",
      " BeautifulSoup([your markup])\n",
      "\n",
      "to this:\n",
      "\n",
      " BeautifulSoup([your markup], \"lxml\")\n",
      "\n",
      "  markup_type=markup_type))\n"
     ]
    }
   ],
   "source": [
    "## Using dictionary meaning from pydictionary to make several representations for the same keyword\n",
    "## only using nouns. \n",
    "print dictionary.meaning(\"flower\")"
   ]
  },
  {
   "cell_type": "code",
   "execution_count": 5,
   "metadata": {
    "collapsed": false
   },
   "outputs": [],
   "source": [
    "## stop words are common words in english. \n",
    "## These words are expected to not contain much information about data. \n",
    "sw = stopwords.words('english')"
   ]
  },
  {
   "cell_type": "code",
   "execution_count": 24,
   "metadata": {
    "collapsed": false
   },
   "outputs": [
    {
     "name": "stdout",
     "output_type": "stream",
     "text": [
      "0\n",
      "Error: The Following Error occured: list index out of range\n",
      "aftermarket\n",
      "10\n",
      "Error: The Following Error occured: list index out of range\n",
      "rentalsleasing\n",
      "20\n",
      "30\n",
      "40\n",
      "Error: The Following Error occured: list index out of range\n",
      "customization\n",
      "Error: The Following Error occured: list index out of range\n",
      "customization\n",
      "Error: The Following Error occured: list index out of range\n",
      "customization\n",
      "50\n",
      "Error: The Following Error occured: list index out of range\n",
      "handyperson\n",
      "Error: The Following Error occured: list index out of range\n",
      "artisanhandyman\n",
      "Error: The Following Error occured: list index out of range\n",
      "remodeler\n",
      "60\n",
      "Error: The Following Error occured: list index out of range\n",
      "sealcoating\n",
      "70\n",
      "Error: The Following Error occured: list index out of range\n",
      "hvac\n",
      "80\n",
      "Error: The Following Error occured: list index out of range\n",
      "hvac\n",
      "Error: The Following Error occured: list index out of range\n",
      "drywalling\n",
      "90\n",
      "Error: The Following Error occured: list index out of range\n",
      "lathing\n",
      "100\n",
      "110\n",
      "120\n",
      "130\n",
      "140\n",
      "150\n",
      "Error: The Following Error occured: list index out of range\n",
      "hotelmotel\n",
      "160\n",
      "Error: The Following Error occured: list index out of range\n",
      "clubcountry\n",
      "170\n",
      "Error: The Following Error occured: list index out of range\n",
      "rollerskating\n",
      "Error: The Following Error occured: list index out of range\n",
      "ymca\n",
      "Error: The Following Error occured: list index out of range\n",
      "ywca\n",
      "Error: The Following Error occured: list index out of range\n",
      "ymha\n",
      "Error: The Following Error occured: list index out of range\n",
      "ywha\n",
      "Error: The Following Error occured: list index out of range\n",
      "parksgardens\n",
      "180\n",
      "190\n",
      "200\n",
      "Error: The Following Error occured: list index out of range\n",
      "caf\n",
      "210\n",
      "Error: The Following Error occured: list index out of range\n",
      "finedining\n",
      "Error: The Following Error occured: list index out of range\n",
      "finedining\n",
      "Error: The Following Error occured: list index out of range\n",
      "bartavern\n",
      "220\n",
      "Error: The Following Error occured: list index out of range\n",
      "loungenight\n",
      "230\n",
      "Error: The Following Error occured: list index out of range\n",
      "alchoholic\n",
      "240\n",
      "250\n",
      "260\n",
      "Error: The Following Error occured: list index out of range\n",
      "appliancesmachines\n",
      "Error: The Following Error occured: list index out of range\n",
      "securiy\n",
      "270\n",
      "Error: The Following Error occured: list index out of range\n",
      "selfservice\n",
      "280\n",
      "Error: The Following Error occured: list index out of range\n",
      "architectsengineers\n",
      "290\n",
      "Error: The Following Error occured: list index out of range\n",
      "bankscredit\n",
      "300\n",
      "Error: The Following Error occured: list index out of range\n",
      "ecommerce\n",
      "Error: The Following Error occured: list index out of range\n",
      "headhunting\n",
      "310\n",
      "Error: The Following Error occured: list index out of range\n",
      "servicesjanitorial\n",
      "Error: The Following Error occured: list index out of range\n",
      "janitorial\n",
      "Error: The Following Error occured: list index out of range\n",
      "commercialdwellings\n",
      "Error: The Following Error occured: list index out of range\n",
      "commercialdwellings\n",
      "320\n",
      "Error: The Following Error occured: list index out of range\n",
      "mgmt\n",
      "Error: The Following Error occured: list index out of range\n",
      "mgmt\n",
      "Error: The Following Error occured: list index out of range\n",
      "condosapartments\n",
      "Error: The Following Error occured: list index out of range\n",
      "mgmt\n",
      "Error: The Following Error occured: list index out of range\n",
      "exterminatorpest\n",
      "330\n",
      "340\n",
      "Error: The Following Error occured: list index out of range\n",
      "groomer\n",
      "350\n",
      "Error: The Following Error occured: list index out of range\n",
      "chauffer\n",
      "360\n",
      "Error: The Following Error occured: list index out of range\n",
      "uber\n",
      "Error: The Following Error occured: list index out of range\n",
      "250\n",
      "370\n",
      "Error: The Following Error occured: list index out of range\n",
      "selfstorage\n",
      "Error: The Following Error occured: list index out of range\n",
      "ministorage\n",
      "380\n",
      "Error: The Following Error occured: list index out of range\n",
      "servicesjanitorial\n",
      "Error: The Following Error occured: list index out of range\n",
      "janitorial\n",
      "390\n",
      "400\n",
      "Error: The Following Error occured: list index out of range\n",
      "stenographercourt\n",
      "410\n",
      "Error: The Following Error occured: list index out of range\n",
      "cfp\n",
      "420\n",
      "Error: The Following Error occured: list index out of range\n",
      "detectiveinvestigator\n",
      "Error: The Following Error occured: list index out of range\n",
      "assocation\n",
      "430\n",
      "440\n",
      "Error: The Following Error occured: list index out of range\n",
      "pictureframe\n",
      "Error: The Following Error occured: list index out of range\n",
      "armynavy\n",
      "Error: The Following Error occured: list index out of range\n",
      "janitorial\n",
      "Error: The Following Error occured: list index out of range\n",
      "leatherhide\n",
      "450\n",
      "Error: The Following Error occured: list index out of range\n",
      "eyewear\n",
      "Error: The Following Error occured: list index out of range\n",
      "arthobby\n",
      "Error: The Following Error occured: list index out of range\n",
      "hvac\n",
      "460\n",
      "Error: The Following Error occured: list index out of range\n",
      "furgarments\n",
      "Error: The Following Error occured: list index out of range\n",
      "printingcopyingduplicating\n",
      "470\n",
      "Error: The Following Error occured: list index out of range\n",
      "nonalchoholic\n",
      "Error: The Following Error occured: list index out of range\n",
      "installationrepair\n",
      "480\n",
      "Error: The Following Error occured: list index out of range\n",
      "incl\n",
      "490\n",
      "Error: The Following Error occured: list index out of range\n",
      "septicsewer\n",
      "Error: The Following Error occured: list index out of range\n",
      "septicsewer\n",
      "500\n",
      "510\n"
     ]
    }
   ],
   "source": [
    "#for i in range(0,len(data)):\n",
    "meaning_list = []\n",
    "KW_list = []\n",
    "\n",
    "for i in range(0,len(data)):\n",
    "    if (i % 10)==0:\n",
    "        print i\n",
    "    meaning_str = ''\n",
    "    \n",
    "    kw = data['Keyword'][i].split(' ')\n",
    "    for word in kw:\n",
    "        word_sub = re.sub('[^A-Za-z0-9]+', '', word).lower()\n",
    "        if ((word_sub in sw) == False):\n",
    "            try:\n",
    "                meaning_wd = dictionary.meaning(word_sub)\n",
    "                if 'Noun' in meaning_wd.keys():\n",
    "                    meaning_str = meaning_str + meaning_wd['Noun'][0] + \" \"\n",
    "                if 'Verb' in meaning_wd.keys():\n",
    "                    meaning_str = meaning_str + meaning_wd['Verb'][0] + \" \"\n",
    "            except:\n",
    "                print word_sub\n",
    "                pass\n",
    "    KW_sub = re.sub('[^A-Za-z0-9]+', '', data['Keyword'][i]).lower()\n",
    "    meaning_str = meaning_str[0:len(meaning_str)-1]\n",
    "    meaning_list.append(meaning_str)\n",
    "    KW_list.append(KW_sub)\n"
   ]
  },
  {
   "cell_type": "code",
   "execution_count": null,
   "metadata": {
    "collapsed": true
   },
   "outputs": [],
   "source": []
  },
  {
   "cell_type": "code",
   "execution_count": null,
   "metadata": {
    "collapsed": true
   },
   "outputs": [],
   "source": []
  },
  {
   "cell_type": "code",
   "execution_count": 8,
   "metadata": {
    "collapsed": false
   },
   "outputs": [],
   "source": [
    "vectorizer_meaning = TfidfVectorizer(use_idf=True,\n",
    "                                         stop_words='english').fit(meaning_list)\n",
    "tf_meaning = vectorizer_meaning.transform(meaning_list)"
   ]
  },
  {
   "cell_type": "code",
   "execution_count": 9,
   "metadata": {
    "collapsed": false
   },
   "outputs": [],
   "source": [
    "vectorizer_keyword = TfidfVectorizer(use_idf=True,\n",
    "                                         stop_words='english').fit(KW_list)\n",
    "tf_keyword = vectorizer_keyword.transform(KW_list)"
   ]
  },
  {
   "cell_type": "code",
   "execution_count": 10,
   "metadata": {
    "collapsed": false
   },
   "outputs": [],
   "source": [
    "tf_features = hstack([tf_meaning,tf_keyword]).toarray()"
   ]
  },
  {
   "cell_type": "code",
   "execution_count": 11,
   "metadata": {
    "collapsed": false
   },
   "outputs": [],
   "source": [
    "tf_labels = np.array(data['ClassCode'])"
   ]
  },
  {
   "cell_type": "code",
   "execution_count": null,
   "metadata": {
    "collapsed": true
   },
   "outputs": [],
   "source": []
  },
  {
   "cell_type": "code",
   "execution_count": 12,
   "metadata": {
    "collapsed": false
   },
   "outputs": [],
   "source": [
    "clf = LogisticRegression(random_state=123)"
   ]
  },
  {
   "cell_type": "code",
   "execution_count": 13,
   "metadata": {
    "collapsed": false,
    "scrolled": true
   },
   "outputs": [
    {
     "data": {
      "text/plain": [
       "LogisticRegression(C=1.0, class_weight=None, dual=False, fit_intercept=True,\n",
       "          intercept_scaling=1, max_iter=100, multi_class='ovr', n_jobs=1,\n",
       "          penalty='l2', random_state=123, solver='liblinear', tol=0.0001,\n",
       "          verbose=0, warm_start=False)"
      ]
     },
     "execution_count": 13,
     "metadata": {},
     "output_type": "execute_result"
    }
   ],
   "source": [
    "clf.fit(tf_features,tf_labels)"
   ]
  },
  {
   "cell_type": "code",
   "execution_count": null,
   "metadata": {
    "collapsed": false
   },
   "outputs": [],
   "source": []
  },
  {
   "cell_type": "code",
   "execution_count": 20,
   "metadata": {
    "collapsed": false
   },
   "outputs": [
    {
     "data": {
      "text/plain": [
       "0.90625"
      ]
     },
     "execution_count": 20,
     "metadata": {},
     "output_type": "execute_result"
    }
   ],
   "source": [
    "float(sum(clf.predict(tf_features)==tf_labels))/float(len(tf_labels))"
   ]
  },
  {
   "cell_type": "code",
   "execution_count": null,
   "metadata": {
    "collapsed": true
   },
   "outputs": [],
   "source": []
  }
 ],
 "metadata": {
  "kernelspec": {
   "display_name": "Python 2",
   "language": "python",
   "name": "python2"
  },
  "language_info": {
   "codemirror_mode": {
    "name": "ipython",
    "version": 2
   },
   "file_extension": ".py",
   "mimetype": "text/x-python",
   "name": "python",
   "nbconvert_exporter": "python",
   "pygments_lexer": "ipython2",
   "version": "2.7.11"
  }
 },
 "nbformat": 4,
 "nbformat_minor": 0
}
